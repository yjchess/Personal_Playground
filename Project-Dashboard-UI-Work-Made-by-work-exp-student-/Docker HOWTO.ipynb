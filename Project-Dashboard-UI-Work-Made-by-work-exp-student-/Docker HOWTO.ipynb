{
 "cells": [
  {
   "cell_type": "markdown",
   "metadata": {},
   "source": [
    "# Introduction\n",
    "Docker is a kind of virtual machine that allows to create and run instances of OS within another OS. It is a kind of shared server. Each instance runs independently and problems arising in any docker image (instance) do not propagate to other images.\n",
    "\n",
    "## Tutorials\n",
    "\n",
    "* [Learn about images and containers](https://docs.docker.com/engine/getstarted/step_two/)\n",
    "* [Working with docker containers](https://www.digitalocean.com/community/tutorials/working-with-docker-containers)\n",
    "* [Continuos Integration with Docker](https://www.digitalocean.com/community/tutorials/how-to-configure-a-continuous-integration-testing-environment-with-docker-and-docker-compose-on-ubuntu-16-04)\n",
    "\n",
    "\n",
    "## Nomenclature\n",
    "\n",
    "* **image**: is a filesystem and parameters to use at runtime. It doesn’t have state and never changes.\n",
    "* **container** is a running instance of an image\n",
    "\n",
    "A running container is **not** a real running OS. Check [here](http://phusion.github.io/baseimage-docker/#intro) for more info.\n",
    "\n",
    "# Create a LAMP image\n",
    "\n",
    "To create a functioning **LAMP** (Linux, Apache, ~~MySQL~~, PHP) we may save the following file and run it. It will create an image with the latest debian OS, install apache2, php, vim, git. Notice that the actual apache2 is not run by default and we execute a call to manually launch the service.\n"
   ]
  },
  {
   "cell_type": "markdown",
   "metadata": {
    "collapsed": true
   },
   "source": [
    "    FROM debian:latest\n",
    "    RUN apt-get update\n",
    "    RUN apt-get install -y apache2\n",
    "    RUN apt-get install -y php5 php-pear php5-mysql\n",
    "    RUN apt-get install -y vim git\n",
    "    RUN apt-get install -y ssh\n",
    "    RUN service apache2 restart\n",
    "    EXPOSE 80"
   ]
  },
  {
   "cell_type": "markdown",
   "metadata": {},
   "source": [
    "connect to vishighmem01 and \n",
    "```bash \n",
    "   sudo docker build -t \"project_dashboard:dockerfile\" .\n",
    "```\n",
    "test that the container exists\n",
    "```bash\n",
    "   sudo docker images | grep project_dashboard\n",
    "``` \n",
    "Run the newly created project_dashboard image with port binding. The following command creates and runs a container based on the image binding the port **80** of the container to the port **1337** of the host.\n",
    "\n",
    "```bash\n",
    "sudo docker run -p 1337:80 -i -t project_dashboard:dockerfile /bin/bash\n",
    "```\n",
    "\n",
    "Due to the -i the container will run interactively and it will launch /bin/bash at start. But as you disconnect typing _exit_, you will close the main task the container was created for and the container will be **closed**. \n",
    "That is not what we want. By hitting CTRL+P and then CTRL+Q; this will leave the container running in the background.\n",
    "\n",
    "Before getting into the problem of leaving the container running, you should be aware that if you do any modification to the content of the container, it will **not** be there when starting the container once more. In facts _the image is stateless_ and the container is the running instance of the image, therefore when it doesn't run it doesn't exist!\n",
    "\n",
    "### Deploy something to your container \n",
    "\n",
    "Would you want to have some files installed in the container, those should be \n",
    "* put in at creation \n",
    "* a directory may be mapped from host to container.\n",
    "* added from the running container (i.e. with git clone/pull) \n",
    "\n",
    "#### Copy \n",
    "To copy data to the container one can add the following command to the dockerfile:\n",
    "\n",
    "    COPY <source> <destination>\n",
    "\n",
    "Where _source_ is in the host and _destination_ is in the container! However, in this way the copy will be static and changes in the host filesystem will not reflect in the container. \n",
    "\n",
    "#### using git\n",
    "I've used git to pull the project I want to the container. Because my webapp requires Apache and PHP I've run/created/attached to the container and \n",
    "    \n",
    "    cd /var/www/html\n",
    "    git clone https://github.com/vais-ral/Project-Dashboard.git\n",
    "\n",
    "This will pull to the container the latest files of the Dashboard.\n",
    "\n",
    "\n",
    "## Running as \"daemon\"\n",
    "\n",
    "[Attach](https://docs.docker.com/engine/reference/commandline/attach/) to a running container\n",
    "\n",
    "First get the id of the container\n",
    "```bash\n",
    "sudo docker ps -a\n",
    "``` \n",
    "will return something afbad1472f44. \n",
    "```bash\n",
    "sudo docker attach afbad1472f44 \n",
    "```\n",
    "\n",
    "If you've read the previous [link](http://phusion.github.io/baseimage-docker/#intro) you understand that running services like Apache/MySQL may be more cumbersome than expected.it may be better to use [linode images](https://www.linode.com/docs/applications/containers/how-to-install-docker-and-deploy-a-lamp-stack).\n",
    "\n"
   ]
  },
  {
   "cell_type": "code",
   "execution_count": null,
   "metadata": {
    "collapsed": true
   },
   "outputs": [],
   "source": []
  },
  {
   "cell_type": "code",
   "execution_count": null,
   "metadata": {
    "collapsed": true
   },
   "outputs": [],
   "source": []
  }
 ],
 "metadata": {
  "anaconda-cloud": {},
  "kernelspec": {
   "display_name": "Python [default]",
   "language": "python",
   "name": "python2"
  },
  "language_info": {
   "codemirror_mode": {
    "name": "ipython",
    "version": 2
   },
   "file_extension": ".py",
   "mimetype": "text/x-python",
   "name": "python",
   "nbconvert_exporter": "python",
   "pygments_lexer": "ipython2",
   "version": "2.7.13"
  }
 },
 "nbformat": 4,
 "nbformat_minor": 2
}
